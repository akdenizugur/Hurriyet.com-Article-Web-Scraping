{
 "cells": [
  {
   "cell_type": "code",
   "execution_count": 1,
   "id": "36e9e08a-065b-443a-9cdf-7237dc4be77e",
   "metadata": {},
   "outputs": [],
   "source": [
    "#Veri İşlemleri\n",
    "import pandas as pd\n",
    "import numpy as np\n",
    "#Veri Kazıma\n",
    "from bs4 import BeautifulSoup as bs\n",
    "import requests \n",
    "import datetime\n",
    "from IPython.display import clear_output"
   ]
  },
  {
   "cell_type": "code",
   "execution_count": 2,
   "id": "5531e5c3-9ad4-49cf-816d-18d3e72f2204",
   "metadata": {},
   "outputs": [],
   "source": [
    "sections = [\"https://www.hurriyet.com.tr/son-dakika-haberleri/gundem/?p=\",\n",
    "            \"https://www.hurriyet.com.tr/son-dakika-haberleri/dunya/?p=\",\n",
    "            \"https://www.hurriyet.com.tr/son-dakika-haberleri/ekonomi/?p=\",\n",
    "            \"https://www.hurriyet.com.tr/son-dakika-haberleri/sporarena/?p=\"\n",
    "           ]"
   ]
  },
  {
   "cell_type": "code",
   "execution_count": 3,
   "id": "14453f29-67ea-4e84-b4fa-bc2ad684eb57",
   "metadata": {},
   "outputs": [
    {
     "name": "stdout",
     "output_type": "stream",
     "text": [
      "https://www.hurriyet.com.tr/son-dakika-haberleri/gundem/?p=1\n",
      "https://www.hurriyet.com.tr/son-dakika-haberleri/gundem/?p=2\n",
      "https://www.hurriyet.com.tr/son-dakika-haberleri/gundem/?p=3\n",
      "https://www.hurriyet.com.tr/son-dakika-haberleri/gundem/?p=4\n",
      "https://www.hurriyet.com.tr/son-dakika-haberleri/gundem/?p=5\n",
      "https://www.hurriyet.com.tr/son-dakika-haberleri/gundem/?p=6\n",
      "https://www.hurriyet.com.tr/son-dakika-haberleri/gundem/?p=7\n",
      "https://www.hurriyet.com.tr/son-dakika-haberleri/gundem/?p=8\n",
      "https://www.hurriyet.com.tr/son-dakika-haberleri/gundem/?p=9\n",
      "https://www.hurriyet.com.tr/son-dakika-haberleri/gundem/?p=10\n",
      "https://www.hurriyet.com.tr/son-dakika-haberleri/dunya/?p=1\n",
      "https://www.hurriyet.com.tr/son-dakika-haberleri/dunya/?p=2\n",
      "https://www.hurriyet.com.tr/son-dakika-haberleri/dunya/?p=3\n",
      "https://www.hurriyet.com.tr/son-dakika-haberleri/dunya/?p=4\n",
      "https://www.hurriyet.com.tr/son-dakika-haberleri/dunya/?p=5\n",
      "https://www.hurriyet.com.tr/son-dakika-haberleri/dunya/?p=6\n",
      "https://www.hurriyet.com.tr/son-dakika-haberleri/dunya/?p=7\n",
      "https://www.hurriyet.com.tr/son-dakika-haberleri/dunya/?p=8\n",
      "https://www.hurriyet.com.tr/son-dakika-haberleri/dunya/?p=9\n",
      "https://www.hurriyet.com.tr/son-dakika-haberleri/dunya/?p=10\n",
      "https://www.hurriyet.com.tr/son-dakika-haberleri/ekonomi/?p=1\n",
      "https://www.hurriyet.com.tr/son-dakika-haberleri/ekonomi/?p=2\n",
      "https://www.hurriyet.com.tr/son-dakika-haberleri/ekonomi/?p=3\n",
      "https://www.hurriyet.com.tr/son-dakika-haberleri/ekonomi/?p=4\n",
      "https://www.hurriyet.com.tr/son-dakika-haberleri/ekonomi/?p=5\n",
      "https://www.hurriyet.com.tr/son-dakika-haberleri/ekonomi/?p=6\n",
      "https://www.hurriyet.com.tr/son-dakika-haberleri/ekonomi/?p=7\n",
      "https://www.hurriyet.com.tr/son-dakika-haberleri/ekonomi/?p=8\n",
      "https://www.hurriyet.com.tr/son-dakika-haberleri/ekonomi/?p=9\n",
      "https://www.hurriyet.com.tr/son-dakika-haberleri/ekonomi/?p=10\n",
      "https://www.hurriyet.com.tr/son-dakika-haberleri/sporarena/?p=1\n",
      "https://www.hurriyet.com.tr/son-dakika-haberleri/sporarena/?p=2\n",
      "https://www.hurriyet.com.tr/son-dakika-haberleri/sporarena/?p=3\n",
      "https://www.hurriyet.com.tr/son-dakika-haberleri/sporarena/?p=4\n",
      "https://www.hurriyet.com.tr/son-dakika-haberleri/sporarena/?p=5\n",
      "https://www.hurriyet.com.tr/son-dakika-haberleri/sporarena/?p=6\n",
      "https://www.hurriyet.com.tr/son-dakika-haberleri/sporarena/?p=7\n",
      "https://www.hurriyet.com.tr/son-dakika-haberleri/sporarena/?p=8\n",
      "https://www.hurriyet.com.tr/son-dakika-haberleri/sporarena/?p=9\n",
      "https://www.hurriyet.com.tr/son-dakika-haberleri/sporarena/?p=10\n"
     ]
    }
   ],
   "source": [
    "urls = []\n",
    "for section in sections:\n",
    "    for i in range(1,11):\n",
    "        new_url = section + str(i)\n",
    "        print(new_url)\n",
    "        html = requests.get(new_url).text\n",
    "        soup = bs(html, \"lxml\")\n",
    "        tags = soup.find(\"section\", class_=\"son-dakika-contain clr\")\n",
    "        for a in tags.find_all('a', href=True):\n",
    "            urls.append((a['href']))"
   ]
  },
  {
   "cell_type": "code",
   "execution_count": 5,
   "id": "bc92b913-fb6a-4ea1-a5aa-bf8a511e3fb8",
   "metadata": {},
   "outputs": [
    {
     "data": {
      "text/plain": [
       "['/gundem/emine-erdogan-filistin-genclik-orkestrasi-ve-cso-sanatcilarinin-baris-konserini-izledi-42103757',\n",
       " '/gundem/chp-ekonomi-masasi-heyeti-elazigda-42103735',\n",
       " '/gundem/ak-parti-genel-baskan-vekili-yildirim-milletimizin-destegiyle-her-secimden-alnimizin-akiyla-ciktik-42103707',\n",
       " '/gundem/tahrandaki-zirveden-16-maddelik-ortak-bildiri-42103699',\n",
       " '/gundem/super-loto-sonuclari-aciklandi-super-loto-sonuc-ekrani-millipiyangoonlineda-42103696']"
      ]
     },
     "execution_count": 5,
     "metadata": {},
     "output_type": "execute_result"
    }
   ],
   "source": [
    "urls[0:5]"
   ]
  },
  {
   "cell_type": "code",
   "execution_count": 6,
   "id": "6c20a721-e157-432d-99f5-f3cd482998ff",
   "metadata": {},
   "outputs": [],
   "source": [
    "urlsdata = []\n",
    "for i in range(0, len(urls)):\n",
    "    urldata = 'https://www.hurriyet.com.tr' + urls[i]\n",
    "    urlsdata.append(urldata)"
   ]
  },
  {
   "cell_type": "code",
   "execution_count": 10,
   "id": "221e45f0-a299-4ef2-beb6-ab5b56116916",
   "metadata": {},
   "outputs": [
    {
     "data": {
      "text/plain": [
       "['https://www.hurriyet.com.tr/gundem/emine-erdogan-filistin-genclik-orkestrasi-ve-cso-sanatcilarinin-baris-konserini-izledi-42103757',\n",
       " 'https://www.hurriyet.com.tr/gundem/chp-ekonomi-masasi-heyeti-elazigda-42103735',\n",
       " 'https://www.hurriyet.com.tr/gundem/ak-parti-genel-baskan-vekili-yildirim-milletimizin-destegiyle-her-secimden-alnimizin-akiyla-ciktik-42103707',\n",
       " 'https://www.hurriyet.com.tr/gundem/tahrandaki-zirveden-16-maddelik-ortak-bildiri-42103699',\n",
       " 'https://www.hurriyet.com.tr/gundem/super-loto-sonuclari-aciklandi-super-loto-sonuc-ekrani-millipiyangoonlineda-42103696']"
      ]
     },
     "execution_count": 10,
     "metadata": {},
     "output_type": "execute_result"
    }
   ],
   "source": [
    "urlsdata[0:5]"
   ]
  },
  {
   "cell_type": "code",
   "execution_count": 14,
   "id": "795e6d97-619d-4a35-b52e-dc79d0df9d30",
   "metadata": {},
   "outputs": [],
   "source": [
    "def GetData(url):\n",
    "\n",
    "    html = requests.get(url).text\n",
    "    soup = bs(html, \"lxml\")\n",
    "\n",
    "    body_text = soup.findAll(\"div\", class_=\"news-content\")[0].findAll('p')\n",
    "\n",
    "    body_text_big = \"\"\n",
    "    for i in body_text:\n",
    "        body_text_big = body_text_big +i.text\n",
    "\n",
    "    header = soup.find(\"h1\", class_=\"news-detail-title\").text\n",
    "    timestamp = soup.find(\"span\", class_=\"news-date\").text\n",
    "\n",
    "    return ((url,header,body_text_big,timestamp))"
   ]
  },
  {
   "cell_type": "code",
   "execution_count": 15,
   "id": "d24de56d-e131-45f5-90a6-7c0f4ff31af2",
   "metadata": {},
   "outputs": [
    {
     "name": "stdout",
     "output_type": "stream",
     "text": [
      "989\n"
     ]
    }
   ],
   "source": [
    "Data = []\n",
    "k = 0\n",
    "for i in urlsdata:\n",
    "    try:\n",
    "        clear_output(wait=True)\n",
    "        print(k)\n",
    "        Data.append(GetData(i))\n",
    "        k = k + 1\n",
    "    except:\n",
    "        continue"
   ]
  },
  {
   "cell_type": "code",
   "execution_count": 17,
   "id": "c2c042c1-0790-4c49-9713-398be8cbe849",
   "metadata": {},
   "outputs": [
    {
     "data": {
      "text/html": [
       "<div>\n",
       "<style scoped>\n",
       "    .dataframe tbody tr th:only-of-type {\n",
       "        vertical-align: middle;\n",
       "    }\n",
       "\n",
       "    .dataframe tbody tr th {\n",
       "        vertical-align: top;\n",
       "    }\n",
       "\n",
       "    .dataframe thead th {\n",
       "        text-align: right;\n",
       "    }\n",
       "</style>\n",
       "<table border=\"1\" class=\"dataframe\">\n",
       "  <thead>\n",
       "    <tr style=\"text-align: right;\">\n",
       "      <th></th>\n",
       "      <th>Haber Türü</th>\n",
       "      <th>Haber Linki</th>\n",
       "      <th>Haber Başlığı</th>\n",
       "      <th>Haber İçeriği</th>\n",
       "      <th>Haber Tarihi</th>\n",
       "    </tr>\n",
       "  </thead>\n",
       "  <tbody>\n",
       "    <tr>\n",
       "      <th>0</th>\n",
       "      <td>Ekonomi</td>\n",
       "      <td>https://www.hurriyet.com.tr/ekonomi/palandoken...</td>\n",
       "      <td>Palandöken'den perakende yasası mesajı</td>\n",
       "      <td>Türkiye Esnaf ve Sanatkarları Konfederasyonu (...</td>\n",
       "      <td>Temmuz 19, 2022 17:18</td>\n",
       "    </tr>\n",
       "    <tr>\n",
       "      <th>1</th>\n",
       "      <td>Ekonomi</td>\n",
       "      <td>https://www.hurriyet.com.tr/ekonomi/bina-insaa...</td>\n",
       "      <td>Bina inşaatı yaptırılacak</td>\n",
       "      <td>Basın İlan Kurumu ilan portalı ilan.gov.tr'de ...</td>\n",
       "      <td>Temmuz 12, 2022 09:44</td>\n",
       "    </tr>\n",
       "    <tr>\n",
       "      <th>2</th>\n",
       "      <td>Spor</td>\n",
       "      <td>https://www.hurriyet.com.tr/sporarena/son-daki...</td>\n",
       "      <td>Son dakika: Rennes cephesinden Kim Min-Jae açı...</td>\n",
       "      <td>Fransız ekibi Rennes, uzun süredir peşinde old...</td>\n",
       "      <td>Temmuz 15, 2022 16:05</td>\n",
       "    </tr>\n",
       "    <tr>\n",
       "      <th>3</th>\n",
       "      <td>Spor</td>\n",
       "      <td>https://www.hurriyet.com.tr/sporarena/besiktas...</td>\n",
       "      <td>Beşiktaş'ta Valerien Ismael'den Serdar Saatçı ...</td>\n",
       "      <td>Avusturya kampında düzenlenen basın toplantısı...</td>\n",
       "      <td>Temmuz 15, 2022 19:02</td>\n",
       "    </tr>\n",
       "    <tr>\n",
       "      <th>4</th>\n",
       "      <td>Ekonomi</td>\n",
       "      <td>https://www.hurriyet.com.tr/ekonomi/bakan-donm...</td>\n",
       "      <td>Bakan Dönmez: Kamuoyu enerji verimliliğinde bi...</td>\n",
       "      <td>Enerji ve Tabii Kaynaklar Bakanı Fatih Dönmez ...</td>\n",
       "      <td>Temmuz 07, 2022 12:03</td>\n",
       "    </tr>\n",
       "    <tr>\n",
       "      <th>...</th>\n",
       "      <td>...</td>\n",
       "      <td>...</td>\n",
       "      <td>...</td>\n",
       "      <td>...</td>\n",
       "      <td>...</td>\n",
       "    </tr>\n",
       "    <tr>\n",
       "      <th>981</th>\n",
       "      <td>Spor</td>\n",
       "      <td>https://www.hurriyet.com.tr/sporarena/trabzons...</td>\n",
       "      <td>Trabzonspor'da Ahmetcan Kaplan'a Ajax kancası</td>\n",
       "      <td>Trabzonspor'un yeni yıldız adayı Ahmetcan Kapl...</td>\n",
       "      <td>Temmuz 16, 2022 11:48</td>\n",
       "    </tr>\n",
       "    <tr>\n",
       "      <th>982</th>\n",
       "      <td>Dünya</td>\n",
       "      <td>https://www.hurriyet.com.tr/dunya/tam-bitti-de...</td>\n",
       "      <td>Tam bitti derken kötü haber... Bilim insanları...</td>\n",
       "      <td>2019'un son aylarında hayatımıza giren koronav...</td>\n",
       "      <td>Temmuz 12, 2022 11:08</td>\n",
       "    </tr>\n",
       "    <tr>\n",
       "      <th>983</th>\n",
       "      <td>Spor</td>\n",
       "      <td>https://www.hurriyet.com.tr/sporarena/galatasa...</td>\n",
       "      <td>Galatasaray'da Okan Buruk'tan transfer açıklam...</td>\n",
       "      <td>Galatasaray Teknik Direktörü Okan Buruk, \"Yöne...</td>\n",
       "      <td>Temmuz 13, 2022 23:41</td>\n",
       "    </tr>\n",
       "    <tr>\n",
       "      <th>984</th>\n",
       "      <td>Ekonomi</td>\n",
       "      <td>https://www.hurriyet.com.tr/ekonomi/ilk-6-ayda...</td>\n",
       "      <td>İlk 6 ayda ihracatlarını yüzde 21 arttırdılar</td>\n",
       "      <td>Ege İhracatçı Birlikleri Koordinatör Başkanı J...</td>\n",
       "      <td>Temmuz 16, 2022 07:00</td>\n",
       "    </tr>\n",
       "    <tr>\n",
       "      <th>985</th>\n",
       "      <td>Spor</td>\n",
       "      <td>https://www.hurriyet.com.tr/sporarena/fenerbah...</td>\n",
       "      <td>Fenerbahçe yeni golcüsüyle anlaştı! Joshua Kin...</td>\n",
       "      <td>Fenerbahçe, Tiago Çukur’un ardından hücum hatt...</td>\n",
       "      <td>Temmuz 12, 2022 09:58</td>\n",
       "    </tr>\n",
       "  </tbody>\n",
       "</table>\n",
       "<p>986 rows × 5 columns</p>\n",
       "</div>"
      ],
      "text/plain": [
       "    Haber Türü                                        Haber Linki  \\\n",
       "0      Ekonomi  https://www.hurriyet.com.tr/ekonomi/palandoken...   \n",
       "1      Ekonomi  https://www.hurriyet.com.tr/ekonomi/bina-insaa...   \n",
       "2         Spor  https://www.hurriyet.com.tr/sporarena/son-daki...   \n",
       "3         Spor  https://www.hurriyet.com.tr/sporarena/besiktas...   \n",
       "4      Ekonomi  https://www.hurriyet.com.tr/ekonomi/bakan-donm...   \n",
       "..         ...                                                ...   \n",
       "981       Spor  https://www.hurriyet.com.tr/sporarena/trabzons...   \n",
       "982      Dünya  https://www.hurriyet.com.tr/dunya/tam-bitti-de...   \n",
       "983       Spor  https://www.hurriyet.com.tr/sporarena/galatasa...   \n",
       "984    Ekonomi  https://www.hurriyet.com.tr/ekonomi/ilk-6-ayda...   \n",
       "985       Spor  https://www.hurriyet.com.tr/sporarena/fenerbah...   \n",
       "\n",
       "                                         Haber Başlığı  \\\n",
       "0               Palandöken'den perakende yasası mesajı   \n",
       "1                            Bina inşaatı yaptırılacak   \n",
       "2    Son dakika: Rennes cephesinden Kim Min-Jae açı...   \n",
       "3    Beşiktaş'ta Valerien Ismael'den Serdar Saatçı ...   \n",
       "4    Bakan Dönmez: Kamuoyu enerji verimliliğinde bi...   \n",
       "..                                                 ...   \n",
       "981      Trabzonspor'da Ahmetcan Kaplan'a Ajax kancası   \n",
       "982  Tam bitti derken kötü haber... Bilim insanları...   \n",
       "983  Galatasaray'da Okan Buruk'tan transfer açıklam...   \n",
       "984      İlk 6 ayda ihracatlarını yüzde 21 arttırdılar   \n",
       "985  Fenerbahçe yeni golcüsüyle anlaştı! Joshua Kin...   \n",
       "\n",
       "                                         Haber İçeriği           Haber Tarihi  \n",
       "0    Türkiye Esnaf ve Sanatkarları Konfederasyonu (...  Temmuz 19, 2022 17:18  \n",
       "1    Basın İlan Kurumu ilan portalı ilan.gov.tr'de ...  Temmuz 12, 2022 09:44  \n",
       "2    Fransız ekibi Rennes, uzun süredir peşinde old...  Temmuz 15, 2022 16:05  \n",
       "3    Avusturya kampında düzenlenen basın toplantısı...  Temmuz 15, 2022 19:02  \n",
       "4    Enerji ve Tabii Kaynaklar Bakanı Fatih Dönmez ...  Temmuz 07, 2022 12:03  \n",
       "..                                                 ...                    ...  \n",
       "981  Trabzonspor'un yeni yıldız adayı Ahmetcan Kapl...  Temmuz 16, 2022 11:48  \n",
       "982  2019'un son aylarında hayatımıza giren koronav...  Temmuz 12, 2022 11:08  \n",
       "983  Galatasaray Teknik Direktörü Okan Buruk, \"Yöne...  Temmuz 13, 2022 23:41  \n",
       "984  Ege İhracatçı Birlikleri Koordinatör Başkanı J...  Temmuz 16, 2022 07:00  \n",
       "985  Fenerbahçe, Tiago Çukur’un ardından hücum hatt...  Temmuz 12, 2022 09:58  \n",
       "\n",
       "[986 rows x 5 columns]"
      ]
     },
     "execution_count": 17,
     "metadata": {},
     "output_type": "execute_result"
    }
   ],
   "source": [
    "Dataframe = pd.DataFrame(Data)\n",
    "Dataframe.drop([4,5,6,7],inplace=True)\n",
    "Dataframe.columns = [\"Haber Linki\",\"Haber Başlığı\",\"Haber İçeriği\",\"Haber Tarihi\"]\n",
    "Dataframe.insert(\n",
    "      0, \n",
    "      \"Haber Türü\", \n",
    "      Dataframe[\"Haber Linki\"].str.split(\"/\",expand=True)[3].str.replace('gundem','Gündem').str.replace('dunya','Dünya').str.replace('ekonomi','Ekonomi').str.replace('sporarena','Spor').str.replace('kelebek','Kelebek-Magazin'))\n",
    "Dataframe.index = range(0,len(Dataframe))\n",
    "Dataframe = Dataframe.sample(frac=1).reset_index(drop=True)\n",
    "Dataframe"
   ]
  },
  {
   "cell_type": "code",
   "execution_count": 18,
   "id": "7d1846f3-3a8e-425a-a2d1-76b590aaddd0",
   "metadata": {},
   "outputs": [],
   "source": [
    "Dataframe.to_csv('HurriyetSonDakikaHaberler.csv')\n",
    "Dataframe.to_excel('HurriyetSonDakikaHaberler.xlsx')"
   ]
  },
  {
   "cell_type": "code",
   "execution_count": 25,
   "id": "fc928e6a-482f-4e5f-9d4e-7f8601e9ab2d",
   "metadata": {},
   "outputs": [
    {
     "data": {
      "text/html": [
       "<div>\n",
       "<style scoped>\n",
       "    .dataframe tbody tr th:only-of-type {\n",
       "        vertical-align: middle;\n",
       "    }\n",
       "\n",
       "    .dataframe tbody tr th {\n",
       "        vertical-align: top;\n",
       "    }\n",
       "\n",
       "    .dataframe thead th {\n",
       "        text-align: right;\n",
       "    }\n",
       "</style>\n",
       "<table border=\"1\" class=\"dataframe\">\n",
       "  <thead>\n",
       "    <tr style=\"text-align: right;\">\n",
       "      <th></th>\n",
       "      <th>Haber Türü</th>\n",
       "      <th>Haber Linki</th>\n",
       "      <th>Haber Başlığı</th>\n",
       "      <th>Haber İçeriği</th>\n",
       "      <th>Haber Tarihi</th>\n",
       "    </tr>\n",
       "  </thead>\n",
       "  <tbody>\n",
       "    <tr>\n",
       "      <th>0</th>\n",
       "      <td>Ekonomi</td>\n",
       "      <td>https://www.hurriyet.com.tr/ekonomi/palandoken...</td>\n",
       "      <td>Palandöken'den perakende yasası mesajı</td>\n",
       "      <td>Türkiye Esnaf ve Sanatkarları Konfederasyonu (...</td>\n",
       "      <td>Temmuz 19, 2022 17:18</td>\n",
       "    </tr>\n",
       "    <tr>\n",
       "      <th>1</th>\n",
       "      <td>Ekonomi</td>\n",
       "      <td>https://www.hurriyet.com.tr/ekonomi/bina-insaa...</td>\n",
       "      <td>Bina inşaatı yaptırılacak</td>\n",
       "      <td>Basın İlan Kurumu ilan portalı ilan.gov.tr'de ...</td>\n",
       "      <td>Temmuz 12, 2022 09:44</td>\n",
       "    </tr>\n",
       "    <tr>\n",
       "      <th>2</th>\n",
       "      <td>Spor</td>\n",
       "      <td>https://www.hurriyet.com.tr/sporarena/son-daki...</td>\n",
       "      <td>Son dakika: Rennes cephesinden Kim Min-Jae açı...</td>\n",
       "      <td>Fransız ekibi Rennes, uzun süredir peşinde old...</td>\n",
       "      <td>Temmuz 15, 2022 16:05</td>\n",
       "    </tr>\n",
       "    <tr>\n",
       "      <th>3</th>\n",
       "      <td>Spor</td>\n",
       "      <td>https://www.hurriyet.com.tr/sporarena/besiktas...</td>\n",
       "      <td>Beşiktaş'ta Valerien Ismael'den Serdar Saatçı ...</td>\n",
       "      <td>Avusturya kampında düzenlenen basın toplantısı...</td>\n",
       "      <td>Temmuz 15, 2022 19:02</td>\n",
       "    </tr>\n",
       "    <tr>\n",
       "      <th>4</th>\n",
       "      <td>Ekonomi</td>\n",
       "      <td>https://www.hurriyet.com.tr/ekonomi/bakan-donm...</td>\n",
       "      <td>Bakan Dönmez: Kamuoyu enerji verimliliğinde bi...</td>\n",
       "      <td>Enerji ve Tabii Kaynaklar Bakanı Fatih Dönmez ...</td>\n",
       "      <td>Temmuz 07, 2022 12:03</td>\n",
       "    </tr>\n",
       "    <tr>\n",
       "      <th>...</th>\n",
       "      <td>...</td>\n",
       "      <td>...</td>\n",
       "      <td>...</td>\n",
       "      <td>...</td>\n",
       "      <td>...</td>\n",
       "    </tr>\n",
       "    <tr>\n",
       "      <th>981</th>\n",
       "      <td>Spor</td>\n",
       "      <td>https://www.hurriyet.com.tr/sporarena/trabzons...</td>\n",
       "      <td>Trabzonspor'da Ahmetcan Kaplan'a Ajax kancası</td>\n",
       "      <td>Trabzonspor'un yeni yıldız adayı Ahmetcan Kapl...</td>\n",
       "      <td>Temmuz 16, 2022 11:48</td>\n",
       "    </tr>\n",
       "    <tr>\n",
       "      <th>982</th>\n",
       "      <td>Dünya</td>\n",
       "      <td>https://www.hurriyet.com.tr/dunya/tam-bitti-de...</td>\n",
       "      <td>Tam bitti derken kötü haber... Bilim insanları...</td>\n",
       "      <td>2019'un son aylarında hayatımıza giren koronav...</td>\n",
       "      <td>Temmuz 12, 2022 11:08</td>\n",
       "    </tr>\n",
       "    <tr>\n",
       "      <th>983</th>\n",
       "      <td>Spor</td>\n",
       "      <td>https://www.hurriyet.com.tr/sporarena/galatasa...</td>\n",
       "      <td>Galatasaray'da Okan Buruk'tan transfer açıklam...</td>\n",
       "      <td>Galatasaray Teknik Direktörü Okan Buruk, \"Yöne...</td>\n",
       "      <td>Temmuz 13, 2022 23:41</td>\n",
       "    </tr>\n",
       "    <tr>\n",
       "      <th>984</th>\n",
       "      <td>Ekonomi</td>\n",
       "      <td>https://www.hurriyet.com.tr/ekonomi/ilk-6-ayda...</td>\n",
       "      <td>İlk 6 ayda ihracatlarını yüzde 21 arttırdılar</td>\n",
       "      <td>Ege İhracatçı Birlikleri Koordinatör Başkanı J...</td>\n",
       "      <td>Temmuz 16, 2022 07:00</td>\n",
       "    </tr>\n",
       "    <tr>\n",
       "      <th>985</th>\n",
       "      <td>Spor</td>\n",
       "      <td>https://www.hurriyet.com.tr/sporarena/fenerbah...</td>\n",
       "      <td>Fenerbahçe yeni golcüsüyle anlaştı! Joshua Kin...</td>\n",
       "      <td>Fenerbahçe, Tiago Çukur’un ardından hücum hatt...</td>\n",
       "      <td>Temmuz 12, 2022 09:58</td>\n",
       "    </tr>\n",
       "  </tbody>\n",
       "</table>\n",
       "<p>986 rows × 5 columns</p>\n",
       "</div>"
      ],
      "text/plain": [
       "    Haber Türü                                        Haber Linki  \\\n",
       "0      Ekonomi  https://www.hurriyet.com.tr/ekonomi/palandoken...   \n",
       "1      Ekonomi  https://www.hurriyet.com.tr/ekonomi/bina-insaa...   \n",
       "2         Spor  https://www.hurriyet.com.tr/sporarena/son-daki...   \n",
       "3         Spor  https://www.hurriyet.com.tr/sporarena/besiktas...   \n",
       "4      Ekonomi  https://www.hurriyet.com.tr/ekonomi/bakan-donm...   \n",
       "..         ...                                                ...   \n",
       "981       Spor  https://www.hurriyet.com.tr/sporarena/trabzons...   \n",
       "982      Dünya  https://www.hurriyet.com.tr/dunya/tam-bitti-de...   \n",
       "983       Spor  https://www.hurriyet.com.tr/sporarena/galatasa...   \n",
       "984    Ekonomi  https://www.hurriyet.com.tr/ekonomi/ilk-6-ayda...   \n",
       "985       Spor  https://www.hurriyet.com.tr/sporarena/fenerbah...   \n",
       "\n",
       "                                         Haber Başlığı  \\\n",
       "0               Palandöken'den perakende yasası mesajı   \n",
       "1                            Bina inşaatı yaptırılacak   \n",
       "2    Son dakika: Rennes cephesinden Kim Min-Jae açı...   \n",
       "3    Beşiktaş'ta Valerien Ismael'den Serdar Saatçı ...   \n",
       "4    Bakan Dönmez: Kamuoyu enerji verimliliğinde bi...   \n",
       "..                                                 ...   \n",
       "981      Trabzonspor'da Ahmetcan Kaplan'a Ajax kancası   \n",
       "982  Tam bitti derken kötü haber... Bilim insanları...   \n",
       "983  Galatasaray'da Okan Buruk'tan transfer açıklam...   \n",
       "984      İlk 6 ayda ihracatlarını yüzde 21 arttırdılar   \n",
       "985  Fenerbahçe yeni golcüsüyle anlaştı! Joshua Kin...   \n",
       "\n",
       "                                         Haber İçeriği           Haber Tarihi  \n",
       "0    Türkiye Esnaf ve Sanatkarları Konfederasyonu (...  Temmuz 19, 2022 17:18  \n",
       "1    Basın İlan Kurumu ilan portalı ilan.gov.tr'de ...  Temmuz 12, 2022 09:44  \n",
       "2    Fransız ekibi Rennes, uzun süredir peşinde old...  Temmuz 15, 2022 16:05  \n",
       "3    Avusturya kampında düzenlenen basın toplantısı...  Temmuz 15, 2022 19:02  \n",
       "4    Enerji ve Tabii Kaynaklar Bakanı Fatih Dönmez ...  Temmuz 07, 2022 12:03  \n",
       "..                                                 ...                    ...  \n",
       "981  Trabzonspor'un yeni yıldız adayı Ahmetcan Kapl...  Temmuz 16, 2022 11:48  \n",
       "982  2019'un son aylarında hayatımıza giren koronav...  Temmuz 12, 2022 11:08  \n",
       "983  Galatasaray Teknik Direktörü Okan Buruk, \"Yöne...  Temmuz 13, 2022 23:41  \n",
       "984  Ege İhracatçı Birlikleri Koordinatör Başkanı J...  Temmuz 16, 2022 07:00  \n",
       "985  Fenerbahçe, Tiago Çukur’un ardından hücum hatt...  Temmuz 12, 2022 09:58  \n",
       "\n",
       "[986 rows x 5 columns]"
      ]
     },
     "execution_count": 25,
     "metadata": {},
     "output_type": "execute_result"
    }
   ],
   "source": [
    "dfCsv = pd.read_csv(\"HurriyetSonDakikaHaberler.csv\", index_col=[0])\n",
    "dfCsv"
   ]
  },
  {
   "cell_type": "code",
   "execution_count": 28,
   "id": "3bb80db5-6420-44c2-8711-15c0b2fa5973",
   "metadata": {},
   "outputs": [
    {
     "data": {
      "text/html": [
       "<div>\n",
       "<style scoped>\n",
       "    .dataframe tbody tr th:only-of-type {\n",
       "        vertical-align: middle;\n",
       "    }\n",
       "\n",
       "    .dataframe tbody tr th {\n",
       "        vertical-align: top;\n",
       "    }\n",
       "\n",
       "    .dataframe thead th {\n",
       "        text-align: right;\n",
       "    }\n",
       "</style>\n",
       "<table border=\"1\" class=\"dataframe\">\n",
       "  <thead>\n",
       "    <tr style=\"text-align: right;\">\n",
       "      <th></th>\n",
       "      <th>Haber Türü</th>\n",
       "      <th>Haber Linki</th>\n",
       "      <th>Haber Başlığı</th>\n",
       "      <th>Haber İçeriği</th>\n",
       "      <th>Haber Tarihi</th>\n",
       "    </tr>\n",
       "  </thead>\n",
       "  <tbody>\n",
       "    <tr>\n",
       "      <th>0</th>\n",
       "      <td>Ekonomi</td>\n",
       "      <td>https://www.hurriyet.com.tr/ekonomi/palandoken...</td>\n",
       "      <td>Palandöken'den perakende yasası mesajı</td>\n",
       "      <td>Türkiye Esnaf ve Sanatkarları Konfederasyonu (...</td>\n",
       "      <td>Temmuz 19, 2022 17:18</td>\n",
       "    </tr>\n",
       "    <tr>\n",
       "      <th>1</th>\n",
       "      <td>Ekonomi</td>\n",
       "      <td>https://www.hurriyet.com.tr/ekonomi/bina-insaa...</td>\n",
       "      <td>Bina inşaatı yaptırılacak</td>\n",
       "      <td>Basın İlan Kurumu ilan portalı ilan.gov.tr'de ...</td>\n",
       "      <td>Temmuz 12, 2022 09:44</td>\n",
       "    </tr>\n",
       "    <tr>\n",
       "      <th>2</th>\n",
       "      <td>Spor</td>\n",
       "      <td>https://www.hurriyet.com.tr/sporarena/son-daki...</td>\n",
       "      <td>Son dakika: Rennes cephesinden Kim Min-Jae açı...</td>\n",
       "      <td>Fransız ekibi Rennes, uzun süredir peşinde old...</td>\n",
       "      <td>Temmuz 15, 2022 16:05</td>\n",
       "    </tr>\n",
       "    <tr>\n",
       "      <th>3</th>\n",
       "      <td>Spor</td>\n",
       "      <td>https://www.hurriyet.com.tr/sporarena/besiktas...</td>\n",
       "      <td>Beşiktaş'ta Valerien Ismael'den Serdar Saatçı ...</td>\n",
       "      <td>Avusturya kampında düzenlenen basın toplantısı...</td>\n",
       "      <td>Temmuz 15, 2022 19:02</td>\n",
       "    </tr>\n",
       "    <tr>\n",
       "      <th>4</th>\n",
       "      <td>Ekonomi</td>\n",
       "      <td>https://www.hurriyet.com.tr/ekonomi/bakan-donm...</td>\n",
       "      <td>Bakan Dönmez: Kamuoyu enerji verimliliğinde bi...</td>\n",
       "      <td>Enerji ve Tabii Kaynaklar Bakanı Fatih Dönmez ...</td>\n",
       "      <td>Temmuz 07, 2022 12:03</td>\n",
       "    </tr>\n",
       "    <tr>\n",
       "      <th>...</th>\n",
       "      <td>...</td>\n",
       "      <td>...</td>\n",
       "      <td>...</td>\n",
       "      <td>...</td>\n",
       "      <td>...</td>\n",
       "    </tr>\n",
       "    <tr>\n",
       "      <th>981</th>\n",
       "      <td>Spor</td>\n",
       "      <td>https://www.hurriyet.com.tr/sporarena/trabzons...</td>\n",
       "      <td>Trabzonspor'da Ahmetcan Kaplan'a Ajax kancası</td>\n",
       "      <td>Trabzonspor'un yeni yıldız adayı Ahmetcan Kapl...</td>\n",
       "      <td>Temmuz 16, 2022 11:48</td>\n",
       "    </tr>\n",
       "    <tr>\n",
       "      <th>982</th>\n",
       "      <td>Dünya</td>\n",
       "      <td>https://www.hurriyet.com.tr/dunya/tam-bitti-de...</td>\n",
       "      <td>Tam bitti derken kötü haber... Bilim insanları...</td>\n",
       "      <td>2019'un son aylarında hayatımıza giren koronav...</td>\n",
       "      <td>Temmuz 12, 2022 11:08</td>\n",
       "    </tr>\n",
       "    <tr>\n",
       "      <th>983</th>\n",
       "      <td>Spor</td>\n",
       "      <td>https://www.hurriyet.com.tr/sporarena/galatasa...</td>\n",
       "      <td>Galatasaray'da Okan Buruk'tan transfer açıklam...</td>\n",
       "      <td>Galatasaray Teknik Direktörü Okan Buruk, \"Yöne...</td>\n",
       "      <td>Temmuz 13, 2022 23:41</td>\n",
       "    </tr>\n",
       "    <tr>\n",
       "      <th>984</th>\n",
       "      <td>Ekonomi</td>\n",
       "      <td>https://www.hurriyet.com.tr/ekonomi/ilk-6-ayda...</td>\n",
       "      <td>İlk 6 ayda ihracatlarını yüzde 21 arttırdılar</td>\n",
       "      <td>Ege İhracatçı Birlikleri Koordinatör Başkanı J...</td>\n",
       "      <td>Temmuz 16, 2022 07:00</td>\n",
       "    </tr>\n",
       "    <tr>\n",
       "      <th>985</th>\n",
       "      <td>Spor</td>\n",
       "      <td>https://www.hurriyet.com.tr/sporarena/fenerbah...</td>\n",
       "      <td>Fenerbahçe yeni golcüsüyle anlaştı! Joshua Kin...</td>\n",
       "      <td>Fenerbahçe, Tiago Çukur’un ardından hücum hatt...</td>\n",
       "      <td>Temmuz 12, 2022 09:58</td>\n",
       "    </tr>\n",
       "  </tbody>\n",
       "</table>\n",
       "<p>986 rows × 5 columns</p>\n",
       "</div>"
      ],
      "text/plain": [
       "    Haber Türü                                        Haber Linki  \\\n",
       "0      Ekonomi  https://www.hurriyet.com.tr/ekonomi/palandoken...   \n",
       "1      Ekonomi  https://www.hurriyet.com.tr/ekonomi/bina-insaa...   \n",
       "2         Spor  https://www.hurriyet.com.tr/sporarena/son-daki...   \n",
       "3         Spor  https://www.hurriyet.com.tr/sporarena/besiktas...   \n",
       "4      Ekonomi  https://www.hurriyet.com.tr/ekonomi/bakan-donm...   \n",
       "..         ...                                                ...   \n",
       "981       Spor  https://www.hurriyet.com.tr/sporarena/trabzons...   \n",
       "982      Dünya  https://www.hurriyet.com.tr/dunya/tam-bitti-de...   \n",
       "983       Spor  https://www.hurriyet.com.tr/sporarena/galatasa...   \n",
       "984    Ekonomi  https://www.hurriyet.com.tr/ekonomi/ilk-6-ayda...   \n",
       "985       Spor  https://www.hurriyet.com.tr/sporarena/fenerbah...   \n",
       "\n",
       "                                         Haber Başlığı  \\\n",
       "0               Palandöken'den perakende yasası mesajı   \n",
       "1                            Bina inşaatı yaptırılacak   \n",
       "2    Son dakika: Rennes cephesinden Kim Min-Jae açı...   \n",
       "3    Beşiktaş'ta Valerien Ismael'den Serdar Saatçı ...   \n",
       "4    Bakan Dönmez: Kamuoyu enerji verimliliğinde bi...   \n",
       "..                                                 ...   \n",
       "981      Trabzonspor'da Ahmetcan Kaplan'a Ajax kancası   \n",
       "982  Tam bitti derken kötü haber... Bilim insanları...   \n",
       "983  Galatasaray'da Okan Buruk'tan transfer açıklam...   \n",
       "984      İlk 6 ayda ihracatlarını yüzde 21 arttırdılar   \n",
       "985  Fenerbahçe yeni golcüsüyle anlaştı! Joshua Kin...   \n",
       "\n",
       "                                         Haber İçeriği           Haber Tarihi  \n",
       "0    Türkiye Esnaf ve Sanatkarları Konfederasyonu (...  Temmuz 19, 2022 17:18  \n",
       "1    Basın İlan Kurumu ilan portalı ilan.gov.tr'de ...  Temmuz 12, 2022 09:44  \n",
       "2    Fransız ekibi Rennes, uzun süredir peşinde old...  Temmuz 15, 2022 16:05  \n",
       "3    Avusturya kampında düzenlenen basın toplantısı...  Temmuz 15, 2022 19:02  \n",
       "4    Enerji ve Tabii Kaynaklar Bakanı Fatih Dönmez ...  Temmuz 07, 2022 12:03  \n",
       "..                                                 ...                    ...  \n",
       "981  Trabzonspor'un yeni yıldız adayı Ahmetcan Kapl...  Temmuz 16, 2022 11:48  \n",
       "982  2019'un son aylarında hayatımıza giren koronav...  Temmuz 12, 2022 11:08  \n",
       "983  Galatasaray Teknik Direktörü Okan Buruk, \"Yöne...  Temmuz 13, 2022 23:41  \n",
       "984  Ege İhracatçı Birlikleri Koordinatör Başkanı J...  Temmuz 16, 2022 07:00  \n",
       "985  Fenerbahçe, Tiago Çukur’un ardından hücum hatt...  Temmuz 12, 2022 09:58  \n",
       "\n",
       "[986 rows x 5 columns]"
      ]
     },
     "execution_count": 28,
     "metadata": {},
     "output_type": "execute_result"
    }
   ],
   "source": [
    "dfExcel = pd.read_excel(\"HurriyetSonDakikaHaberler.xlsx\", index_col=[0])\n",
    "dfExcel"
   ]
  },
  {
   "cell_type": "code",
   "execution_count": null,
   "id": "e5ad2be3-c8c7-42cd-9572-638cee27aa2a",
   "metadata": {},
   "outputs": [],
   "source": [
    "-----------------------------------------Ekstra şeyler...-----------------------------------------"
   ]
  },
  {
   "cell_type": "code",
   "execution_count": 29,
   "id": "fffee8ff-99c1-4033-aa18-fa9539433ba3",
   "metadata": {},
   "outputs": [],
   "source": [
    "X = df[\"Haber Başlığı\"]\n",
    "y = df[\"Haber Türü\"]\n",
    "X = np.array(X)\n",
    "y = np.array(y)"
   ]
  },
  {
   "cell_type": "code",
   "execution_count": 30,
   "id": "ab61f31b-b9f2-4e2f-a322-46c3f07e9864",
   "metadata": {},
   "outputs": [
    {
     "data": {
      "text/plain": [
       "\"Palandöken'den perakende yasası mesajı\""
      ]
     },
     "execution_count": 30,
     "metadata": {},
     "output_type": "execute_result"
    }
   ],
   "source": [
    "df['Haber Başlığı'][0]"
   ]
  },
  {
   "cell_type": "code",
   "execution_count": 31,
   "id": "a0320257-8079-4b7e-a1ae-ec19ada79f31",
   "metadata": {},
   "outputs": [
    {
     "name": "stdout",
     "output_type": "stream",
     "text": [
      "Gündem: 9.0 %\n",
      "Dünya: 30.0 %\n",
      "Ekonomi: 30.0 %\n",
      "Spor: 30.0 %\n"
     ]
    }
   ],
   "source": [
    "print(\"Gündem:\",round(len(df[df['Haber Türü']=='Gündem'])/len(df['Haber Türü']),2)*100,\"%\")\n",
    "print(\"Dünya:\",round(len(df[df['Haber Türü']=='Dünya'])/len(df['Haber Türü']),2)*100,\"%\")\n",
    "print(\"Ekonomi:\",round(len(df[df['Haber Türü']=='Ekonomi'])/len(df['Haber Türü']),2)*100,\"%\")\n",
    "print(\"Spor:\",round(len(df[df['Haber Türü']=='Spor'])/len(df['Haber Türü']),2)*100,\"%\")"
   ]
  },
  {
   "cell_type": "code",
   "execution_count": 32,
   "id": "c5f9dfe0-3937-4b2a-9228-b868c68a9f06",
   "metadata": {},
   "outputs": [
    {
     "name": "stdout",
     "output_type": "stream",
     "text": [
      "Gündem: (87, 5)\n",
      "Dünya: (300, 5)\n",
      "Ekonomi: (299, 5)\n",
      "Spor: (300, 5)\n"
     ]
    }
   ],
   "source": [
    "df_gundem = df[df['Haber Türü']=='Gündem']\n",
    "df_dunya = df[df['Haber Türü']=='Dünya']\n",
    "df_ekonomi = df[df['Haber Türü']=='Ekonomi']\n",
    "df_spor = df[df['Haber Türü']=='Spor']\n",
    "\n",
    "print(\"Gündem:\", df_gundem.shape)\n",
    "print(\"Dünya:\", df_dunya.shape)\n",
    "print(\"Ekonomi:\", df_ekonomi.shape)\n",
    "print(\"Spor:\", df_spor.shape)"
   ]
  },
  {
   "cell_type": "code",
   "execution_count": 33,
   "id": "0244aea2-33e7-446f-bba8-bf132c2455b4",
   "metadata": {},
   "outputs": [],
   "source": [
    "from sklearn.feature_extraction.text import TfidfVectorizer # CountVectorizer and TfiedTransformer birlikte kullanılması\n",
    "from sklearn.pipeline import Pipeline\n",
    "\n",
    "from sklearn.svm import LinearSVC\n",
    "from sklearn.ensemble import RandomForestClassifier\n",
    "from sklearn.svm import SVC\n",
    "from sklearn.naive_bayes import GaussianNB\n",
    "from sklearn.naive_bayes import MultinomialNB\n",
    "from sklearn.neighbors import KNeighborsClassifier\n",
    "\n",
    "\n",
    "from sklearn.model_selection import train_test_split\n",
    "from sklearn.metrics import confusion_matrix,accuracy_score,classification_report\n",
    "from sklearn.preprocessing import LabelEncoder"
   ]
  },
  {
   "cell_type": "code",
   "execution_count": 39,
   "id": "e4d67ba0-a975-48c1-8954-dc7453e776cb",
   "metadata": {},
   "outputs": [
    {
     "name": "stdout",
     "output_type": "stream",
     "text": [
      "0.898989898989899\n",
      "              precision    recall  f1-score   support\n",
      "\n",
      "       Dünya       0.85      0.97      0.91        35\n",
      "     Ekonomi       0.85      0.96      0.90        23\n",
      "      Gündem       1.00      0.29      0.44         7\n",
      "        Spor       1.00      0.91      0.95        34\n",
      "\n",
      "    accuracy                           0.90        99\n",
      "   macro avg       0.92      0.78      0.80        99\n",
      "weighted avg       0.91      0.90      0.89        99\n",
      "\n"
     ]
    }
   ],
   "source": [
    "X_train, X_test, y_train, y_test = train_test_split(X, y, test_size=0.1)\n",
    "\n",
    "classifier = Pipeline([\n",
    "    ('tfidf',TfidfVectorizer(stop_words='english',min_df=1,max_df=0.2)),\n",
    "    (\"method\", SVC(kernel = 'sigmoid', degree=20, probability = True))\n",
    "])\n",
    "classifier.fit(np.array(X_train), np.array(y_train))\n",
    "\n",
    "predictions = classifier.predict(X_test)\n",
    "print(f\"{accuracy_score(y_test, predictions)}\")\n",
    "print(classification_report(y_test, predictions))"
   ]
  },
  {
   "cell_type": "code",
   "execution_count": 40,
   "id": "b233768f-78bc-43a9-ab9f-1ee706b980e8",
   "metadata": {},
   "outputs": [
    {
     "name": "stdout",
     "output_type": "stream",
     "text": [
      "Haber Türü:  ['Dünya']\n"
     ]
    }
   ],
   "source": [
    "print('Haber Türü: ', classifier.predict([\"ABD'nin bugün Rusya'dan petrol ihracatını yasaklaması bekleniyor\"]))"
   ]
  },
  {
   "cell_type": "code",
   "execution_count": 41,
   "id": "a4a2abfe-4e57-4b81-9f36-c10f344be973",
   "metadata": {},
   "outputs": [
    {
     "name": "stdout",
     "output_type": "stream",
     "text": [
      "Haber Türü:  ['Spor']\n"
     ]
    }
   ],
   "source": [
    "print('Haber Türü: ', classifier.predict([\"Dev maç öncesi nefesler tutuldu! Galatasaray'ın Barcelona kadrosu belli oldu\"]))"
   ]
  },
  {
   "cell_type": "code",
   "execution_count": 42,
   "id": "782e66ae-4f75-4fd4-802a-0fad84b00da9",
   "metadata": {},
   "outputs": [
    {
     "name": "stdout",
     "output_type": "stream",
     "text": [
      "Haber Türü:  ['Ekonomi']\n"
     ]
    }
   ],
   "source": [
    "print('Haber Türü: ', classifier.predict([\"Demir'den önemli tedarik zinciri açıklaması\"]))"
   ]
  },
  {
   "cell_type": "code",
   "execution_count": null,
   "id": "f89cb418-70d3-4579-83d4-b929211f0e52",
   "metadata": {},
   "outputs": [],
   "source": []
  }
 ],
 "metadata": {
  "kernelspec": {
   "display_name": "Python 3 (ipykernel)",
   "language": "python",
   "name": "python3"
  },
  "language_info": {
   "codemirror_mode": {
    "name": "ipython",
    "version": 3
   },
   "file_extension": ".py",
   "mimetype": "text/x-python",
   "name": "python",
   "nbconvert_exporter": "python",
   "pygments_lexer": "ipython3",
   "version": "3.10.4"
  }
 },
 "nbformat": 4,
 "nbformat_minor": 5
}
